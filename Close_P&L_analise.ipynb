{
 "cells": [
  {
   "cell_type": "code",
   "execution_count": 3,
   "id": "3c945200",
   "metadata": {},
   "outputs": [],
   "source": [
    "import sys\n",
    "import numpy as np\n",
    "import pandas as pd\n",
    "sys.path.insert(1, 'E:/Oleg_jobbet/FTXdeklaration/ftx_pandas')\n",
    "from util.date_helper import DateHelper as dh\n",
    "from get_price_ccxt import GetPriceCcxt"
   ]
  },
  {
   "cell_type": "code",
   "execution_count": 4,
   "id": "5b1671a8",
   "metadata": {},
   "outputs": [],
   "source": [
    "date = '2022-11'\n",
    "\n",
    "stamps = dh.get_month_range_date(date)\n",
    "\n",
    "start_time = stamps['start_time_string']\n",
    "end_time = stamps['end_time_string']"
   ]
  },
  {
   "cell_type": "code",
   "execution_count": 6,
   "id": "48e3d34e",
   "metadata": {
    "scrolled": true
   },
   "outputs": [],
   "source": [
    "df = pd.read_csv('E:/Oleg_jobbet/ByBit/Bybit-Derivatives-ClosedPNL-20221031-20221215.csv')"
   ]
  },
  {
   "cell_type": "code",
   "execution_count": 7,
   "id": "bd195dbc",
   "metadata": {},
   "outputs": [
    {
     "data": {
      "text/html": [
       "<div>\n",
       "<style scoped>\n",
       "    .dataframe tbody tr th:only-of-type {\n",
       "        vertical-align: middle;\n",
       "    }\n",
       "\n",
       "    .dataframe tbody tr th {\n",
       "        vertical-align: top;\n",
       "    }\n",
       "\n",
       "    .dataframe thead th {\n",
       "        text-align: right;\n",
       "    }\n",
       "</style>\n",
       "<table border=\"1\" class=\"dataframe\">\n",
       "  <thead>\n",
       "    <tr style=\"text-align: right;\">\n",
       "      <th></th>\n",
       "      <th>Contracts</th>\n",
       "      <th>Closing Direction</th>\n",
       "      <th>Qty</th>\n",
       "      <th>Entry Price</th>\n",
       "      <th>Exit Price</th>\n",
       "      <th>Closed P&amp;L</th>\n",
       "      <th>Exit Type</th>\n",
       "      <th>Trade Time(UTC+0)</th>\n",
       "      <th>Order No.</th>\n",
       "      <th>Create Time</th>\n",
       "    </tr>\n",
       "  </thead>\n",
       "  <tbody>\n",
       "    <tr>\n",
       "      <th>0</th>\n",
       "      <td>DOGEUSDT</td>\n",
       "      <td>Close Short</td>\n",
       "      <td>25000</td>\n",
       "      <td>0.09926</td>\n",
       "      <td>0.08753</td>\n",
       "      <td>294.070149</td>\n",
       "      <td>Trade</td>\n",
       "      <td>2022-12-12 05:07:08</td>\n",
       "      <td>d5ee9f42</td>\n",
       "      <td>2022-12-12 05:07:08</td>\n",
       "    </tr>\n",
       "    <tr>\n",
       "      <th>1</th>\n",
       "      <td>LTCUSDT</td>\n",
       "      <td>Close Long</td>\n",
       "      <td>500</td>\n",
       "      <td>76.43000</td>\n",
       "      <td>75.69000</td>\n",
       "      <td>-385.990704</td>\n",
       "      <td>Trade</td>\n",
       "      <td>2022-12-08 07:39:30</td>\n",
       "      <td>33fae382</td>\n",
       "      <td>2022-12-08 05:01:12</td>\n",
       "    </tr>\n",
       "    <tr>\n",
       "      <th>2</th>\n",
       "      <td>DOGEUSDT</td>\n",
       "      <td>Close Short</td>\n",
       "      <td>150000</td>\n",
       "      <td>0.10059</td>\n",
       "      <td>0.09547</td>\n",
       "      <td>748.697612</td>\n",
       "      <td>Trade</td>\n",
       "      <td>2022-12-07 07:18:35</td>\n",
       "      <td>42ad9536</td>\n",
       "      <td>2022-12-07 07:18:35</td>\n",
       "    </tr>\n",
       "    <tr>\n",
       "      <th>3</th>\n",
       "      <td>LTCUSDT</td>\n",
       "      <td>Close Long</td>\n",
       "      <td>1000</td>\n",
       "      <td>76.43000</td>\n",
       "      <td>78.67000</td>\n",
       "      <td>2148.719750</td>\n",
       "      <td>Trade</td>\n",
       "      <td>2022-12-09 01:29:27</td>\n",
       "      <td>c2e1256f</td>\n",
       "      <td>2022-12-07 07:18:24</td>\n",
       "    </tr>\n",
       "    <tr>\n",
       "      <th>4</th>\n",
       "      <td>LTCUSDT</td>\n",
       "      <td>Close Short</td>\n",
       "      <td>250</td>\n",
       "      <td>79.11000</td>\n",
       "      <td>79.24000</td>\n",
       "      <td>-44.075511</td>\n",
       "      <td>Trade</td>\n",
       "      <td>2022-12-06 09:57:02</td>\n",
       "      <td>9c58b395</td>\n",
       "      <td>2022-12-06 09:56:50</td>\n",
       "    </tr>\n",
       "  </tbody>\n",
       "</table>\n",
       "</div>"
      ],
      "text/plain": [
       "  Contracts Closing Direction     Qty  Entry Price  Exit Price   Closed P&L  \\\n",
       "0  DOGEUSDT       Close Short   25000      0.09926     0.08753   294.070149   \n",
       "1   LTCUSDT        Close Long     500     76.43000    75.69000  -385.990704   \n",
       "2  DOGEUSDT       Close Short  150000      0.10059     0.09547   748.697612   \n",
       "3   LTCUSDT        Close Long    1000     76.43000    78.67000  2148.719750   \n",
       "4   LTCUSDT       Close Short     250     79.11000    79.24000   -44.075511   \n",
       "\n",
       "  Exit Type    Trade Time(UTC+0) Order No.          Create Time  \n",
       "0     Trade  2022-12-12 05:07:08  d5ee9f42  2022-12-12 05:07:08  \n",
       "1     Trade  2022-12-08 07:39:30  33fae382  2022-12-08 05:01:12  \n",
       "2     Trade  2022-12-07 07:18:35  42ad9536  2022-12-07 07:18:35  \n",
       "3     Trade  2022-12-09 01:29:27  c2e1256f  2022-12-07 07:18:24  \n",
       "4     Trade  2022-12-06 09:57:02  9c58b395  2022-12-06 09:56:50  "
      ]
     },
     "execution_count": 7,
     "metadata": {},
     "output_type": "execute_result"
    }
   ],
   "source": [
    "df.head()"
   ]
  },
  {
   "cell_type": "code",
   "execution_count": 14,
   "id": "679ca25c",
   "metadata": {},
   "outputs": [
    {
     "name": "stdout",
     "output_type": "stream",
     "text": [
      "Start date 2022-11-19 14:47:18\n",
      "End date 2022-11-30 10:13:48\n"
     ]
    }
   ],
   "source": [
    "df = df.loc[(df['Create Time'] >= start_time) & \\\n",
    "            (df['Create Time'] <= end_time)].copy()\n",
    "print('Start date', df['Create Time'].min())\n",
    "print('End date', df['Create Time'].max())"
   ]
  },
  {
   "cell_type": "code",
   "execution_count": 11,
   "id": "ce7f4a81",
   "metadata": {},
   "outputs": [
    {
     "data": {
      "text/html": [
       "<div>\n",
       "<style scoped>\n",
       "    .dataframe tbody tr th:only-of-type {\n",
       "        vertical-align: middle;\n",
       "    }\n",
       "\n",
       "    .dataframe tbody tr th {\n",
       "        vertical-align: top;\n",
       "    }\n",
       "\n",
       "    .dataframe thead th {\n",
       "        text-align: right;\n",
       "    }\n",
       "</style>\n",
       "<table border=\"1\" class=\"dataframe\">\n",
       "  <thead>\n",
       "    <tr style=\"text-align: right;\">\n",
       "      <th></th>\n",
       "      <th></th>\n",
       "      <th>Qty</th>\n",
       "      <th>Closed P&amp;L</th>\n",
       "    </tr>\n",
       "    <tr>\n",
       "      <th>Contracts</th>\n",
       "      <th>Closing Direction</th>\n",
       "      <th></th>\n",
       "      <th></th>\n",
       "    </tr>\n",
       "  </thead>\n",
       "  <tbody>\n",
       "    <tr>\n",
       "      <th rowspan=\"2\" valign=\"top\">CHZUSDT</th>\n",
       "      <th>Close Long</th>\n",
       "      <td>125000</td>\n",
       "      <td>404.881189</td>\n",
       "    </tr>\n",
       "    <tr>\n",
       "      <th>Close Short</th>\n",
       "      <td>995000</td>\n",
       "      <td>17099.737855</td>\n",
       "    </tr>\n",
       "    <tr>\n",
       "      <th rowspan=\"2\" valign=\"top\">DOGEUSDT</th>\n",
       "      <th>Close Long</th>\n",
       "      <td>200000</td>\n",
       "      <td>321.653800</td>\n",
       "    </tr>\n",
       "    <tr>\n",
       "      <th>Close Short</th>\n",
       "      <td>3025000</td>\n",
       "      <td>20793.041441</td>\n",
       "    </tr>\n",
       "    <tr>\n",
       "      <th>LTCUSDT</th>\n",
       "      <th>Close Short</th>\n",
       "      <td>3000</td>\n",
       "      <td>12222.183854</td>\n",
       "    </tr>\n",
       "  </tbody>\n",
       "</table>\n",
       "</div>"
      ],
      "text/plain": [
       "                                 Qty    Closed P&L\n",
       "Contracts Closing Direction                       \n",
       "CHZUSDT   Close Long          125000    404.881189\n",
       "          Close Short         995000  17099.737855\n",
       "DOGEUSDT  Close Long          200000    321.653800\n",
       "          Close Short        3025000  20793.041441\n",
       "LTCUSDT   Close Short           3000  12222.183854"
      ]
     },
     "execution_count": 11,
     "metadata": {},
     "output_type": "execute_result"
    }
   ],
   "source": [
    "df_g = df.groupby(['Contracts', 'Closing Direction'])[['Qty', 'Closed P&L']].sum()\n",
    "df_g"
   ]
  },
  {
   "cell_type": "code",
   "execution_count": 12,
   "id": "f78f1545",
   "metadata": {},
   "outputs": [
    {
     "data": {
      "text/plain": [
       "50841.49813860001"
      ]
     },
     "execution_count": 12,
     "metadata": {},
     "output_type": "execute_result"
    }
   ],
   "source": [
    "df_g['Closed P&L'].sum()"
   ]
  },
  {
   "cell_type": "code",
   "execution_count": null,
   "id": "544bf5c1",
   "metadata": {},
   "outputs": [],
   "source": []
  }
 ],
 "metadata": {
  "kernelspec": {
   "display_name": "Python 3 (ipykernel)",
   "language": "python",
   "name": "python3"
  },
  "language_info": {
   "codemirror_mode": {
    "name": "ipython",
    "version": 3
   },
   "file_extension": ".py",
   "mimetype": "text/x-python",
   "name": "python",
   "nbconvert_exporter": "python",
   "pygments_lexer": "ipython3",
   "version": "3.9.12"
  }
 },
 "nbformat": 4,
 "nbformat_minor": 5
}
