{
 "cells": [
  {
   "cell_type": "code",
   "execution_count": 1,
   "id": "a354da66",
   "metadata": {},
   "outputs": [],
   "source": [
    "import sys\n",
    "import numpy as np\n",
    "import pandas as pd\n",
    "sys.path.insert(0, 'E:/Oleg_jobbet/ByBit/pybit')\n",
    "from pybit.date_helper import DateHelper as dh\n",
    "from pybit._http_manager import _TAXHTTPManager"
   ]
  },
  {
   "cell_type": "code",
   "execution_count": 2,
   "id": "3dd5b7d8",
   "metadata": {
    "scrolled": true
   },
   "outputs": [],
   "source": [
    "date = '2022-11'\n",
    "\n",
    "stamps = dh.get_month_range_date(date)\n",
    "\n",
    "start_time = stamps['start_time_timestamp']\n",
    "end_time = stamps['end_time_timestamp']"
   ]
  },
  {
   "cell_type": "code",
   "execution_count": 3,
   "id": "40672c19",
   "metadata": {},
   "outputs": [],
   "source": [
    "keys = {'main': {'api_key': 'BLYgpUU9S0DHAlpygh',\n",
    "  'api_secret': 'ELzMygtVrET2n4rtSqYbZmDDJ2RWGFDwFySH'},\n",
    " 'spikey': {'api_key': 'UXXNDWKPSSBNIMMPVV',\n",
    "  'api_secret': 'NFYWGOKFYVHQTPKLSUIXMXPCPEINJWVHHVKB'}}"
   ]
  },
  {
   "cell_type": "code",
   "execution_count": 4,
   "id": "7aa18a10",
   "metadata": {},
   "outputs": [],
   "source": [
    "main_key = keys['main']\n",
    "spikey_key = keys['spikey']"
   ]
  },
  {
   "cell_type": "code",
   "execution_count": 5,
   "id": "f631aed4",
   "metadata": {},
   "outputs": [],
   "source": [
    "tax = _TAXHTTPManager(api_key=main_key['api_key'], api_secret=main_key['api_secret'], endpoint=\"https://api.bybit.com\")"
   ]
  },
  {
   "cell_type": "code",
   "execution_count": 6,
   "id": "c4ed1a85",
   "metadata": {
    "scrolled": true
   },
   "outputs": [
    {
     "name": "stdout",
     "output_type": "stream",
     "text": [
      "{'retCode': 10016, 'retMsg': 'Server Not Available', 'result': {}, 'retExtInfo': {}, 'time': 1671008706897}\n"
     ]
    },
    {
     "ename": "InvalidRequestError",
     "evalue": "Server not available (ErrCode: 10016) (ErrTime: 09:05:07).\nRequest → POST https://api.bybit.com/fht/compliance/tax/v3/private/create: {'api_key': 'BLYgpUU9S0DHAlpygh', 'endTime': 1669849199, 'number': 1, 'recv_window': 5000, 'startTime': 1667257200, 'timestamp': 1671008706869, 'type': 'P&L', 'sign': '18e581c2fd411564931b9eee994c96a22e5f165dc107ec0be8fd0d9a5bcbe3fd'}.",
     "output_type": "error",
     "traceback": [
      "\u001b[1;31m---------------------------------------------------------------------------\u001b[0m",
      "\u001b[1;31mInvalidRequestError\u001b[0m                       Traceback (most recent call last)",
      "Cell \u001b[1;32mIn [6], line 1\u001b[0m\n\u001b[1;32m----> 1\u001b[0m id_report \u001b[38;5;241m=\u001b[39m \u001b[43mtax\u001b[49m\u001b[38;5;241;43m.\u001b[39;49m\u001b[43mrequest_export_report\u001b[49m\u001b[43m(\u001b[49m\u001b[38;5;28;43mtype\u001b[39;49m\u001b[43m \u001b[49m\u001b[38;5;241;43m=\u001b[39;49m\u001b[43m \u001b[49m\u001b[38;5;124;43m'\u001b[39;49m\u001b[38;5;124;43mP&L\u001b[39;49m\u001b[38;5;124;43m'\u001b[39;49m\u001b[43m,\u001b[49m\u001b[43m \u001b[49m\u001b[43mnumber\u001b[49m\u001b[43m \u001b[49m\u001b[38;5;241;43m=\u001b[39;49m\u001b[43m \u001b[49m\u001b[38;5;241;43m1\u001b[39;49m\u001b[43m,\u001b[49m\u001b[43m \u001b[49m\u001b[43mstartTime\u001b[49m\u001b[43m \u001b[49m\u001b[38;5;241;43m=\u001b[39;49m\u001b[43m \u001b[49m\u001b[43mstart_time\u001b[49m\u001b[43m,\u001b[49m\u001b[43m \u001b[49m\u001b[43mendTime\u001b[49m\u001b[43m \u001b[49m\u001b[38;5;241;43m=\u001b[39;49m\u001b[43m \u001b[49m\u001b[43mend_time\u001b[49m\u001b[43m)\u001b[49m\n",
      "File \u001b[1;32mE:\\Oleg_jobbet/ByBit/pybit\\pybit\\_http_manager.py:895\u001b[0m, in \u001b[0;36m_TAXHTTPManager.request_export_report\u001b[1;34m(self, **kwargs)\u001b[0m\n\u001b[0;32m    883\u001b[0m \u001b[38;5;124;03m\"\"\"\u001b[39;00m\n\u001b[0;32m    884\u001b[0m \u001b[38;5;124;03mSend the request for getting report request ID.\u001b[39;00m\n\u001b[0;32m    885\u001b[0m \u001b[38;5;124;03m:param kwargs:\u001b[39;00m\n\u001b[1;32m   (...)\u001b[0m\n\u001b[0;32m    891\u001b[0m \u001b[38;5;124;03m:returns: Request ID.\u001b[39;00m\n\u001b[0;32m    892\u001b[0m \u001b[38;5;124;03m\"\"\"\u001b[39;00m\n\u001b[0;32m    893\u001b[0m suffix \u001b[38;5;241m=\u001b[39m \u001b[38;5;124m\"\u001b[39m\u001b[38;5;124m/fht/compliance/tax/v3/private/create\u001b[39m\u001b[38;5;124m\"\u001b[39m\n\u001b[1;32m--> 895\u001b[0m \u001b[38;5;28;01mreturn\u001b[39;00m \u001b[38;5;28;43mself\u001b[39;49m\u001b[38;5;241;43m.\u001b[39;49m\u001b[43m_submit_request\u001b[49m\u001b[43m(\u001b[49m\n\u001b[0;32m    896\u001b[0m \u001b[43m    \u001b[49m\u001b[43mmethod\u001b[49m\u001b[38;5;241;43m=\u001b[39;49m\u001b[38;5;124;43m\"\u001b[39;49m\u001b[38;5;124;43mPOST\u001b[39;49m\u001b[38;5;124;43m\"\u001b[39;49m\u001b[43m,\u001b[49m\n\u001b[0;32m    897\u001b[0m \u001b[43m    \u001b[49m\u001b[43mpath\u001b[49m\u001b[38;5;241;43m=\u001b[39;49m\u001b[38;5;28;43mself\u001b[39;49m\u001b[38;5;241;43m.\u001b[39;49m\u001b[43mendpoint\u001b[49m\u001b[43m \u001b[49m\u001b[38;5;241;43m+\u001b[39;49m\u001b[43m \u001b[49m\u001b[43msuffix\u001b[49m\u001b[43m,\u001b[49m\n\u001b[0;32m    898\u001b[0m \u001b[43m    \u001b[49m\u001b[43mquery\u001b[49m\u001b[38;5;241;43m=\u001b[39;49m\u001b[43mkwargs\u001b[49m\u001b[43m,\u001b[49m\n\u001b[0;32m    899\u001b[0m \u001b[43m    \u001b[49m\u001b[43mauth\u001b[49m\u001b[38;5;241;43m=\u001b[39;49m\u001b[38;5;28;43;01mTrue\u001b[39;49;00m\n\u001b[0;32m    900\u001b[0m \u001b[43m\u001b[49m\u001b[43m)\u001b[49m\n",
      "File \u001b[1;32mE:\\Oleg_jobbet/ByBit/pybit\\pybit\\_http_manager.py:393\u001b[0m, in \u001b[0;36m_HTTPManager._submit_request\u001b[1;34m(self, method, path, query, auth)\u001b[0m\n\u001b[0;32m    390\u001b[0m         \u001b[38;5;28;01mpass\u001b[39;00m\n\u001b[0;32m    392\u001b[0m     \u001b[38;5;28;01melse\u001b[39;00m:\n\u001b[1;32m--> 393\u001b[0m         \u001b[38;5;28;01mraise\u001b[39;00m InvalidRequestError(\n\u001b[0;32m    394\u001b[0m             request\u001b[38;5;241m=\u001b[39m\u001b[38;5;124mf\u001b[39m\u001b[38;5;124m\"\u001b[39m\u001b[38;5;132;01m{\u001b[39;00mmethod\u001b[38;5;132;01m}\u001b[39;00m\u001b[38;5;124m \u001b[39m\u001b[38;5;132;01m{\u001b[39;00mpath\u001b[38;5;132;01m}\u001b[39;00m\u001b[38;5;124m: \u001b[39m\u001b[38;5;132;01m{\u001b[39;00mreq_params\u001b[38;5;132;01m}\u001b[39;00m\u001b[38;5;124m\"\u001b[39m,\n\u001b[0;32m    395\u001b[0m             message\u001b[38;5;241m=\u001b[39ms_json[ret_msg],\n\u001b[0;32m    396\u001b[0m             status_code\u001b[38;5;241m=\u001b[39ms_json[ret_code],\n\u001b[0;32m    397\u001b[0m             time\u001b[38;5;241m=\u001b[39mdt\u001b[38;5;241m.\u001b[39mutcnow()\u001b[38;5;241m.\u001b[39mstrftime(\u001b[38;5;124m\"\u001b[39m\u001b[38;5;124m%\u001b[39m\u001b[38;5;124mH:\u001b[39m\u001b[38;5;124m%\u001b[39m\u001b[38;5;124mM:\u001b[39m\u001b[38;5;124m%\u001b[39m\u001b[38;5;124mS\u001b[39m\u001b[38;5;124m\"\u001b[39m)\n\u001b[0;32m    398\u001b[0m         )\n\u001b[0;32m    399\u001b[0m \u001b[38;5;28;01melse\u001b[39;00m:\n\u001b[0;32m    400\u001b[0m     \u001b[38;5;28;01mif\u001b[39;00m \u001b[38;5;28mself\u001b[39m\u001b[38;5;241m.\u001b[39mrecord_request_time:\n",
      "\u001b[1;31mInvalidRequestError\u001b[0m: Server not available (ErrCode: 10016) (ErrTime: 09:05:07).\nRequest → POST https://api.bybit.com/fht/compliance/tax/v3/private/create: {'api_key': 'BLYgpUU9S0DHAlpygh', 'endTime': 1669849199, 'number': 1, 'recv_window': 5000, 'startTime': 1667257200, 'timestamp': 1671008706869, 'type': 'P&L', 'sign': '18e581c2fd411564931b9eee994c96a22e5f165dc107ec0be8fd0d9a5bcbe3fd'}."
     ]
    }
   ],
   "source": [
    "id_report = tax.request_export_report(type = 'P&L', number = 1, startTime = start_time, endTime = end_time)"
   ]
  },
  {
   "cell_type": "code",
   "execution_count": null,
   "id": "04daa7b1",
   "metadata": {},
   "outputs": [],
   "source": []
  }
 ],
 "metadata": {
  "kernelspec": {
   "display_name": "Python 3 (ipykernel)",
   "language": "python",
   "name": "python3"
  },
  "language_info": {
   "codemirror_mode": {
    "name": "ipython",
    "version": 3
   },
   "file_extension": ".py",
   "mimetype": "text/x-python",
   "name": "python",
   "nbconvert_exporter": "python",
   "pygments_lexer": "ipython3",
   "version": "3.9.12"
  }
 },
 "nbformat": 4,
 "nbformat_minor": 5
}
