{
 "cells": [
  {
   "cell_type": "code",
   "execution_count": 1,
   "id": "a354da66",
   "metadata": {},
   "outputs": [
    {
     "ename": "ModuleNotFoundError",
     "evalue": "No module named 'ccxt'",
     "output_type": "error",
     "traceback": [
      "\u001b[0;31m---------------------------------------------------------------------------\u001b[0m",
      "\u001b[0;31mModuleNotFoundError\u001b[0m                       Traceback (most recent call last)",
      "Input \u001b[0;32mIn [1]\u001b[0m, in \u001b[0;36m<cell line: 6>\u001b[0;34m()\u001b[0m\n\u001b[1;32m      4\u001b[0m sys\u001b[38;5;241m.\u001b[39mpath\u001b[38;5;241m.\u001b[39minsert(\u001b[38;5;241m1\u001b[39m, \u001b[38;5;124m'\u001b[39m\u001b[38;5;124m/Users/andriisutiagin/Jobb/programering/ftx_pandas_report\u001b[39m\u001b[38;5;124m'\u001b[39m)\n\u001b[1;32m      5\u001b[0m \u001b[38;5;28;01mfrom\u001b[39;00m \u001b[38;5;21;01mutil\u001b[39;00m\u001b[38;5;21;01m.\u001b[39;00m\u001b[38;5;21;01mdate_helper\u001b[39;00m \u001b[38;5;28;01mimport\u001b[39;00m DateHelper \u001b[38;5;28;01mas\u001b[39;00m dh\n\u001b[0;32m----> 6\u001b[0m \u001b[38;5;28;01mfrom\u001b[39;00m \u001b[38;5;21;01mget_price_ccxt\u001b[39;00m \u001b[38;5;28;01mimport\u001b[39;00m GetPriceCcxt\n",
      "File \u001b[0;32m~/Jobb/programering/ftx_pandas_report/get_price_ccxt.py:1\u001b[0m, in \u001b[0;36m<module>\u001b[0;34m\u001b[0m\n\u001b[0;32m----> 1\u001b[0m \u001b[38;5;28;01mimport\u001b[39;00m \u001b[38;5;21;01mccxt\u001b[39;00m\n\u001b[1;32m      2\u001b[0m \u001b[38;5;28;01mfrom\u001b[39;00m \u001b[38;5;21;01mutil\u001b[39;00m\u001b[38;5;21;01m.\u001b[39;00m\u001b[38;5;21;01mdate_helper\u001b[39;00m \u001b[38;5;28;01mimport\u001b[39;00m DateHelper \u001b[38;5;28;01mas\u001b[39;00m dh\n\u001b[1;32m      4\u001b[0m \u001b[38;5;28;01mclass\u001b[39;00m \u001b[38;5;21;01mGetPriceCcxt\u001b[39;00m:\n",
      "\u001b[0;31mModuleNotFoundError\u001b[0m: No module named 'ccxt'"
     ]
    }
   ],
   "source": [
    "import sys\n",
    "import numpy as np\n",
    "import pandas as pd\n",
    "sys.path.insert(1, '/Users/andriisutiagin/Jobb/programering/ftx_pandas_report')\n",
    "from util.date_helper import DateHelper as dh\n",
    "from get_price_ccxt import GetPriceCcxt"
   ]
  },
  {
   "cell_type": "code",
   "execution_count": 42,
   "id": "3dd5b7d8",
   "metadata": {
    "scrolled": true
   },
   "outputs": [],
   "source": [
    "date = '2022-11'\n",
    "\n",
    "stamps = dh.get_month_range_date(date)\n",
    "\n",
    "start_time = stamps['start_time_string']\n",
    "end_time = stamps['end_time_string']"
   ]
  },
  {
   "cell_type": "code",
   "execution_count": 43,
   "id": "a70cb242",
   "metadata": {
    "scrolled": true
   },
   "outputs": [],
   "source": [
    "ccxt = GetPriceCcxt()"
   ]
  },
  {
   "cell_type": "code",
   "execution_count": 23,
   "id": "ba80dfde",
   "metadata": {},
   "outputs": [],
   "source": [
    "def set_price(contract=None):\n",
    "    if 'USDT' in contract:\n",
    "        contract = contract.split('USDT')[0]+'/USD'\n",
    "    else:\n",
    "        print('This is not USDT contract')\n",
    "    try:\n",
    "        ohlc = ccxt.get_price(market = contract, time_s = stamps['end_time_timestamp'])\n",
    "    except:\n",
    "        raise Exception('Fail to get price from ccxt')\n",
    "    return ohlc[4]"
   ]
  },
  {
   "cell_type": "code",
   "execution_count": 45,
   "id": "91cfacf2",
   "metadata": {
    "scrolled": true
   },
   "outputs": [
    {
     "name": "stdout",
     "output_type": "stream",
     "text": [
      "Start date 2022-11-19 14:46:58\n",
      "End date 2022-11-30 22:56:24\n"
     ]
    }
   ],
   "source": [
    "#Bybit-Derivatives-TradeHistory-20221101-20221202\n",
    "df = pd.read_csv('Bybit-Derivatives-TradeHistory-20221101-20221202.csv')\n",
    "df = df.loc[(df['Transaction Time(UTC+0)'] >= start_time) & \\\n",
    "            (df['Transaction Time(UTC+0)'] <= end_time)].copy()\n",
    "print('Start date', df['Transaction Time(UTC+0)'].min())\n",
    "print('End date', df['Transaction Time(UTC+0)'].max())"
   ]
  },
  {
   "cell_type": "code",
   "execution_count": 11,
   "id": "81a29e81",
   "metadata": {},
   "outputs": [
    {
     "data": {
      "text/html": [
       "<div>\n",
       "<style scoped>\n",
       "    .dataframe tbody tr th:only-of-type {\n",
       "        vertical-align: middle;\n",
       "    }\n",
       "\n",
       "    .dataframe tbody tr th {\n",
       "        vertical-align: top;\n",
       "    }\n",
       "\n",
       "    .dataframe thead th {\n",
       "        text-align: right;\n",
       "    }\n",
       "</style>\n",
       "<table border=\"1\" class=\"dataframe\">\n",
       "  <thead>\n",
       "    <tr style=\"text-align: right;\">\n",
       "      <th></th>\n",
       "      <th>Contracts</th>\n",
       "      <th>Order No.</th>\n",
       "      <th>Transaction Time(UTC+0)</th>\n",
       "      <th>Leverage</th>\n",
       "      <th>Direction</th>\n",
       "      <th>Order Type</th>\n",
       "      <th>Filled Type</th>\n",
       "      <th>Filled Qty</th>\n",
       "      <th>Filled Price</th>\n",
       "      <th>Order Price</th>\n",
       "      <th>Trading Fee Rate</th>\n",
       "      <th>Fees Paid</th>\n",
       "      <th>Transaction ID</th>\n",
       "    </tr>\n",
       "  </thead>\n",
       "  <tbody>\n",
       "    <tr>\n",
       "      <th>12</th>\n",
       "      <td>DOGEUSDT</td>\n",
       "      <td>29c9e7bc</td>\n",
       "      <td>2022-11-30 22:56:24</td>\n",
       "      <td>10</td>\n",
       "      <td>Open Short</td>\n",
       "      <td>Limit</td>\n",
       "      <td>Trade</td>\n",
       "      <td>125000.0</td>\n",
       "      <td>0.10768</td>\n",
       "      <td>0.10768</td>\n",
       "      <td>0.00006</td>\n",
       "      <td>0.807600</td>\n",
       "      <td>eee06177</td>\n",
       "    </tr>\n",
       "    <tr>\n",
       "      <th>13</th>\n",
       "      <td>DOGEUSDT</td>\n",
       "      <td>af6de876</td>\n",
       "      <td>2022-11-30 18:04:58</td>\n",
       "      <td>10</td>\n",
       "      <td>Close Short</td>\n",
       "      <td>Limit</td>\n",
       "      <td>Trade</td>\n",
       "      <td>35042.0</td>\n",
       "      <td>0.10033</td>\n",
       "      <td>0.10033</td>\n",
       "      <td>0.00006</td>\n",
       "      <td>0.210946</td>\n",
       "      <td>68d0082b</td>\n",
       "    </tr>\n",
       "    <tr>\n",
       "      <th>14</th>\n",
       "      <td>DOGEUSDT</td>\n",
       "      <td>af6de876</td>\n",
       "      <td>2022-11-30 18:04:58</td>\n",
       "      <td>10</td>\n",
       "      <td>Close Short</td>\n",
       "      <td>Limit</td>\n",
       "      <td>Trade</td>\n",
       "      <td>1946.0</td>\n",
       "      <td>0.10033</td>\n",
       "      <td>0.10033</td>\n",
       "      <td>0.00006</td>\n",
       "      <td>0.011715</td>\n",
       "      <td>d59e1ee6</td>\n",
       "    </tr>\n",
       "    <tr>\n",
       "      <th>15</th>\n",
       "      <td>DOGEUSDT</td>\n",
       "      <td>af6de876</td>\n",
       "      <td>2022-11-30 18:04:58</td>\n",
       "      <td>10</td>\n",
       "      <td>Close Short</td>\n",
       "      <td>Limit</td>\n",
       "      <td>Trade</td>\n",
       "      <td>18851.0</td>\n",
       "      <td>0.10033</td>\n",
       "      <td>0.10033</td>\n",
       "      <td>0.00006</td>\n",
       "      <td>0.113479</td>\n",
       "      <td>a9ad58cd</td>\n",
       "    </tr>\n",
       "    <tr>\n",
       "      <th>16</th>\n",
       "      <td>DOGEUSDT</td>\n",
       "      <td>af6de876</td>\n",
       "      <td>2022-11-30 18:04:58</td>\n",
       "      <td>10</td>\n",
       "      <td>Close Short</td>\n",
       "      <td>Limit</td>\n",
       "      <td>Trade</td>\n",
       "      <td>22514.0</td>\n",
       "      <td>0.10033</td>\n",
       "      <td>0.10033</td>\n",
       "      <td>0.00006</td>\n",
       "      <td>0.135530</td>\n",
       "      <td>a107bc0b</td>\n",
       "    </tr>\n",
       "  </tbody>\n",
       "</table>\n",
       "</div>"
      ],
      "text/plain": [
       "   Contracts Order No. Transaction Time(UTC+0)  Leverage    Direction  \\\n",
       "12  DOGEUSDT  29c9e7bc     2022-11-30 22:56:24        10   Open Short   \n",
       "13  DOGEUSDT  af6de876     2022-11-30 18:04:58        10  Close Short   \n",
       "14  DOGEUSDT  af6de876     2022-11-30 18:04:58        10  Close Short   \n",
       "15  DOGEUSDT  af6de876     2022-11-30 18:04:58        10  Close Short   \n",
       "16  DOGEUSDT  af6de876     2022-11-30 18:04:58        10  Close Short   \n",
       "\n",
       "   Order Type Filled Type  Filled Qty  Filled Price Order Price  \\\n",
       "12      Limit       Trade    125000.0       0.10768     0.10768   \n",
       "13      Limit       Trade     35042.0       0.10033     0.10033   \n",
       "14      Limit       Trade      1946.0       0.10033     0.10033   \n",
       "15      Limit       Trade     18851.0       0.10033     0.10033   \n",
       "16      Limit       Trade     22514.0       0.10033     0.10033   \n",
       "\n",
       "    Trading Fee Rate  Fees Paid Transaction ID  \n",
       "12           0.00006   0.807600       eee06177  \n",
       "13           0.00006   0.210946       68d0082b  \n",
       "14           0.00006   0.011715       d59e1ee6  \n",
       "15           0.00006   0.113479       a9ad58cd  \n",
       "16           0.00006   0.135530       a107bc0b  "
      ]
     },
     "execution_count": 11,
     "metadata": {},
     "output_type": "execute_result"
    }
   ],
   "source": [
    "df.head(5)"
   ]
  },
  {
   "cell_type": "code",
   "execution_count": 12,
   "id": "801f323e",
   "metadata": {},
   "outputs": [],
   "source": [
    "df['usd_value'] = df['Filled Qty'] * df['Filled Price']"
   ]
  },
  {
   "cell_type": "code",
   "execution_count": 13,
   "id": "aaa765de",
   "metadata": {
    "scrolled": true
   },
   "outputs": [
    {
     "data": {
      "text/html": [
       "<div>\n",
       "<style scoped>\n",
       "    .dataframe tbody tr th:only-of-type {\n",
       "        vertical-align: middle;\n",
       "    }\n",
       "\n",
       "    .dataframe tbody tr th {\n",
       "        vertical-align: top;\n",
       "    }\n",
       "\n",
       "    .dataframe thead th {\n",
       "        text-align: right;\n",
       "    }\n",
       "</style>\n",
       "<table border=\"1\" class=\"dataframe\">\n",
       "  <thead>\n",
       "    <tr style=\"text-align: right;\">\n",
       "      <th></th>\n",
       "      <th>Contracts</th>\n",
       "      <th>Order No.</th>\n",
       "      <th>Transaction Time(UTC+0)</th>\n",
       "      <th>Leverage</th>\n",
       "      <th>Direction</th>\n",
       "      <th>Order Type</th>\n",
       "      <th>Filled Type</th>\n",
       "      <th>Filled Qty</th>\n",
       "      <th>Filled Price</th>\n",
       "      <th>Order Price</th>\n",
       "      <th>Trading Fee Rate</th>\n",
       "      <th>Fees Paid</th>\n",
       "      <th>Transaction ID</th>\n",
       "      <th>usd_value</th>\n",
       "    </tr>\n",
       "  </thead>\n",
       "  <tbody>\n",
       "    <tr>\n",
       "      <th>23</th>\n",
       "      <td>DOGEUSDT</td>\n",
       "      <td>851-Sell</td>\n",
       "      <td>2022-11-30 16:00:00</td>\n",
       "      <td>10</td>\n",
       "      <td>Open Short</td>\n",
       "      <td>--</td>\n",
       "      <td>Funding</td>\n",
       "      <td>1875000.0</td>\n",
       "      <td>0.10417</td>\n",
       "      <td>0.00000</td>\n",
       "      <td>-0.000100</td>\n",
       "      <td>-19.531875</td>\n",
       "      <td>73d3f9dc</td>\n",
       "      <td>195318.75</td>\n",
       "    </tr>\n",
       "    <tr>\n",
       "      <th>29</th>\n",
       "      <td>DOGEUSDT</td>\n",
       "      <td>851-Sell</td>\n",
       "      <td>2022-11-30 08:00:00</td>\n",
       "      <td>10</td>\n",
       "      <td>Open Short</td>\n",
       "      <td>--</td>\n",
       "      <td>Funding</td>\n",
       "      <td>2000000.0</td>\n",
       "      <td>0.10617</td>\n",
       "      <td>0.00000</td>\n",
       "      <td>-0.000093</td>\n",
       "      <td>-19.654190</td>\n",
       "      <td>402b0549</td>\n",
       "      <td>212340.00</td>\n",
       "    </tr>\n",
       "    <tr>\n",
       "      <th>30</th>\n",
       "      <td>DOGEUSDT</td>\n",
       "      <td>851-Sell</td>\n",
       "      <td>2022-11-30 00:00:00</td>\n",
       "      <td>10</td>\n",
       "      <td>Open Short</td>\n",
       "      <td>--</td>\n",
       "      <td>Funding</td>\n",
       "      <td>2000000.0</td>\n",
       "      <td>0.10138</td>\n",
       "      <td>0.00000</td>\n",
       "      <td>0.000105</td>\n",
       "      <td>21.381042</td>\n",
       "      <td>07c67cb1</td>\n",
       "      <td>202760.00</td>\n",
       "    </tr>\n",
       "    <tr>\n",
       "      <th>31</th>\n",
       "      <td>DOGEUSDT</td>\n",
       "      <td>851-Sell</td>\n",
       "      <td>2022-11-29 16:00:00</td>\n",
       "      <td>10</td>\n",
       "      <td>Open Short</td>\n",
       "      <td>--</td>\n",
       "      <td>Funding</td>\n",
       "      <td>2000000.0</td>\n",
       "      <td>0.10153</td>\n",
       "      <td>0.00000</td>\n",
       "      <td>-0.000100</td>\n",
       "      <td>-20.306000</td>\n",
       "      <td>fe515489</td>\n",
       "      <td>203060.00</td>\n",
       "    </tr>\n",
       "    <tr>\n",
       "      <th>32</th>\n",
       "      <td>DOGEUSDT</td>\n",
       "      <td>851-Sell</td>\n",
       "      <td>2022-11-29 08:00:00</td>\n",
       "      <td>10</td>\n",
       "      <td>Open Short</td>\n",
       "      <td>--</td>\n",
       "      <td>Funding</td>\n",
       "      <td>2000000.0</td>\n",
       "      <td>0.10240</td>\n",
       "      <td>0.00000</td>\n",
       "      <td>0.003059</td>\n",
       "      <td>626.511872</td>\n",
       "      <td>31f94274</td>\n",
       "      <td>204800.00</td>\n",
       "    </tr>\n",
       "  </tbody>\n",
       "</table>\n",
       "</div>"
      ],
      "text/plain": [
       "   Contracts Order No. Transaction Time(UTC+0)  Leverage   Direction  \\\n",
       "23  DOGEUSDT  851-Sell     2022-11-30 16:00:00        10  Open Short   \n",
       "29  DOGEUSDT  851-Sell     2022-11-30 08:00:00        10  Open Short   \n",
       "30  DOGEUSDT  851-Sell     2022-11-30 00:00:00        10  Open Short   \n",
       "31  DOGEUSDT  851-Sell     2022-11-29 16:00:00        10  Open Short   \n",
       "32  DOGEUSDT  851-Sell     2022-11-29 08:00:00        10  Open Short   \n",
       "\n",
       "   Order Type Filled Type  Filled Qty  Filled Price Order Price  \\\n",
       "23         --     Funding   1875000.0       0.10417     0.00000   \n",
       "29         --     Funding   2000000.0       0.10617     0.00000   \n",
       "30         --     Funding   2000000.0       0.10138     0.00000   \n",
       "31         --     Funding   2000000.0       0.10153     0.00000   \n",
       "32         --     Funding   2000000.0       0.10240     0.00000   \n",
       "\n",
       "    Trading Fee Rate   Fees Paid Transaction ID  usd_value  \n",
       "23         -0.000100  -19.531875       73d3f9dc  195318.75  \n",
       "29         -0.000093  -19.654190       402b0549  212340.00  \n",
       "30          0.000105   21.381042       07c67cb1  202760.00  \n",
       "31         -0.000100  -20.306000       fe515489  203060.00  \n",
       "32          0.003059  626.511872       31f94274  204800.00  "
      ]
     },
     "execution_count": 13,
     "metadata": {},
     "output_type": "execute_result"
    }
   ],
   "source": [
    "df_fund = df.loc[df['Filled Type'].isin(['Funding'])]\n",
    "df_fund.head()"
   ]
  },
  {
   "cell_type": "code",
   "execution_count": 35,
   "id": "2da6efe9",
   "metadata": {},
   "outputs": [],
   "source": [
    "df_trade = df.loc[df['Filled Type'].isin(['Trade'])]\n",
    "buy_sell_df = df_trade.groupby(['Direction'])['usd_value'].sum()"
   ]
  },
  {
   "cell_type": "code",
   "execution_count": 36,
   "id": "c47a7c91",
   "metadata": {
    "scrolled": true
   },
   "outputs": [
    {
     "data": {
      "text/plain": [
       "Direction\n",
       "Close Long      48352.57135\n",
       "Close Short    642710.46020\n",
       "Open Long       46361.62350\n",
       "Open Short     846270.01455\n",
       "Name: usd_value, dtype: float64"
      ]
     },
     "execution_count": 36,
     "metadata": {},
     "output_type": "execute_result"
    }
   ],
   "source": [
    "buy_sell_df"
   ]
  },
  {
   "cell_type": "code",
   "execution_count": 37,
   "id": "81830fe3",
   "metadata": {},
   "outputs": [
    {
     "data": {
      "text/plain": [
       "894622.5859"
      ]
     },
     "execution_count": 37,
     "metadata": {},
     "output_type": "execute_result"
    }
   ],
   "source": [
    "sell = buy_sell_df['Close Long'] +  buy_sell_df['Open Short']\n",
    "sell"
   ]
  },
  {
   "cell_type": "code",
   "execution_count": 38,
   "id": "9a04fe9e",
   "metadata": {},
   "outputs": [
    {
     "data": {
      "text/plain": [
       "689072.0837"
      ]
     },
     "execution_count": 38,
     "metadata": {},
     "output_type": "execute_result"
    }
   ],
   "source": [
    "buy = buy_sell_df['Open Long'] +  buy_sell_df['Close Short']\n",
    "buy"
   ]
  },
  {
   "cell_type": "code",
   "execution_count": 44,
   "id": "ccadb3d3",
   "metadata": {},
   "outputs": [
    {
     "data": {
      "text/html": [
       "<div>\n",
       "<style scoped>\n",
       "    .dataframe tbody tr th:only-of-type {\n",
       "        vertical-align: middle;\n",
       "    }\n",
       "\n",
       "    .dataframe tbody tr th {\n",
       "        vertical-align: top;\n",
       "    }\n",
       "\n",
       "    .dataframe thead th {\n",
       "        text-align: right;\n",
       "    }\n",
       "</style>\n",
       "<table border=\"1\" class=\"dataframe\">\n",
       "  <thead>\n",
       "    <tr style=\"text-align: right;\">\n",
       "      <th></th>\n",
       "      <th>Contracts</th>\n",
       "      <th>Direction</th>\n",
       "      <th>Filled Qty</th>\n",
       "      <th>usd_value</th>\n",
       "    </tr>\n",
       "  </thead>\n",
       "  <tbody>\n",
       "    <tr>\n",
       "      <th>0</th>\n",
       "      <td>CHZUSDT</td>\n",
       "      <td>Close Long</td>\n",
       "      <td>125000.0</td>\n",
       "      <td>29402.57135</td>\n",
       "    </tr>\n",
       "    <tr>\n",
       "      <th>1</th>\n",
       "      <td>CHZUSDT</td>\n",
       "      <td>Close Short</td>\n",
       "      <td>995000.0</td>\n",
       "      <td>219279.29670</td>\n",
       "    </tr>\n",
       "    <tr>\n",
       "      <th>2</th>\n",
       "      <td>CHZUSDT</td>\n",
       "      <td>Open Long</td>\n",
       "      <td>125000.0</td>\n",
       "      <td>28981.25000</td>\n",
       "    </tr>\n",
       "    <tr>\n",
       "      <th>3</th>\n",
       "      <td>CHZUSDT</td>\n",
       "      <td>Open Short</td>\n",
       "      <td>995000.0</td>\n",
       "      <td>236435.01455</td>\n",
       "    </tr>\n",
       "    <tr>\n",
       "      <th>4</th>\n",
       "      <td>DOGEUSDT</td>\n",
       "      <td>Close Long</td>\n",
       "      <td>200000.0</td>\n",
       "      <td>18950.00000</td>\n",
       "    </tr>\n",
       "    <tr>\n",
       "      <th>5</th>\n",
       "      <td>DOGEUSDT</td>\n",
       "      <td>Close Short</td>\n",
       "      <td>2063315.0</td>\n",
       "      <td>199772.12650</td>\n",
       "    </tr>\n",
       "    <tr>\n",
       "      <th>6</th>\n",
       "      <td>DOGEUSDT</td>\n",
       "      <td>Open Long</td>\n",
       "      <td>186685.0</td>\n",
       "      <td>17380.37350</td>\n",
       "    </tr>\n",
       "    <tr>\n",
       "      <th>7</th>\n",
       "      <td>DOGEUSDT</td>\n",
       "      <td>Open Short</td>\n",
       "      <td>3675000.0</td>\n",
       "      <td>373955.00000</td>\n",
       "    </tr>\n",
       "    <tr>\n",
       "      <th>8</th>\n",
       "      <td>LTCUSDT</td>\n",
       "      <td>Close Short</td>\n",
       "      <td>3000.0</td>\n",
       "      <td>223659.03700</td>\n",
       "    </tr>\n",
       "    <tr>\n",
       "      <th>9</th>\n",
       "      <td>LTCUSDT</td>\n",
       "      <td>Open Short</td>\n",
       "      <td>3000.0</td>\n",
       "      <td>235880.00000</td>\n",
       "    </tr>\n",
       "  </tbody>\n",
       "</table>\n",
       "</div>"
      ],
      "text/plain": [
       "  Contracts    Direction  Filled Qty     usd_value\n",
       "0   CHZUSDT   Close Long    125000.0   29402.57135\n",
       "1   CHZUSDT  Close Short    995000.0  219279.29670\n",
       "2   CHZUSDT    Open Long    125000.0   28981.25000\n",
       "3   CHZUSDT   Open Short    995000.0  236435.01455\n",
       "4  DOGEUSDT   Close Long    200000.0   18950.00000\n",
       "5  DOGEUSDT  Close Short   2063315.0  199772.12650\n",
       "6  DOGEUSDT    Open Long    186685.0   17380.37350\n",
       "7  DOGEUSDT   Open Short   3675000.0  373955.00000\n",
       "8   LTCUSDT  Close Short      3000.0  223659.03700\n",
       "9   LTCUSDT   Open Short      3000.0  235880.00000"
      ]
     },
     "execution_count": 44,
     "metadata": {},
     "output_type": "execute_result"
    }
   ],
   "source": [
    "group_by_size = df_trade.groupby(['Contracts', 'Direction'])[['Filled Qty', 'usd_value']].sum()\n",
    "group_by_size = group_by_size.reset_index()\n",
    "group_by_size"
   ]
  },
  {
   "cell_type": "code",
   "execution_count": 46,
   "id": "e17c8ead",
   "metadata": {},
   "outputs": [
    {
     "data": {
      "text/html": [
       "<div>\n",
       "<style scoped>\n",
       "    .dataframe tbody tr th:only-of-type {\n",
       "        vertical-align: middle;\n",
       "    }\n",
       "\n",
       "    .dataframe tbody tr th {\n",
       "        vertical-align: top;\n",
       "    }\n",
       "\n",
       "    .dataframe thead th {\n",
       "        text-align: right;\n",
       "    }\n",
       "</style>\n",
       "<table border=\"1\" class=\"dataframe\">\n",
       "  <thead>\n",
       "    <tr style=\"text-align: right;\">\n",
       "      <th></th>\n",
       "      <th>Contracts</th>\n",
       "      <th>Direction</th>\n",
       "      <th>Filled Qty</th>\n",
       "      <th>usd_value</th>\n",
       "    </tr>\n",
       "  </thead>\n",
       "  <tbody>\n",
       "    <tr>\n",
       "      <th>4</th>\n",
       "      <td>DOGEUSDT</td>\n",
       "      <td>Close Long</td>\n",
       "      <td>200000.0</td>\n",
       "      <td>18950.0000</td>\n",
       "    </tr>\n",
       "    <tr>\n",
       "      <th>5</th>\n",
       "      <td>DOGEUSDT</td>\n",
       "      <td>Close Short</td>\n",
       "      <td>2063315.0</td>\n",
       "      <td>199772.1265</td>\n",
       "    </tr>\n",
       "    <tr>\n",
       "      <th>6</th>\n",
       "      <td>DOGEUSDT</td>\n",
       "      <td>Open Long</td>\n",
       "      <td>186685.0</td>\n",
       "      <td>17380.3735</td>\n",
       "    </tr>\n",
       "    <tr>\n",
       "      <th>7</th>\n",
       "      <td>DOGEUSDT</td>\n",
       "      <td>Open Short</td>\n",
       "      <td>3675000.0</td>\n",
       "      <td>373955.0000</td>\n",
       "    </tr>\n",
       "  </tbody>\n",
       "</table>\n",
       "</div>"
      ],
      "text/plain": [
       "  Contracts    Direction  Filled Qty    usd_value\n",
       "4  DOGEUSDT   Close Long    200000.0   18950.0000\n",
       "5  DOGEUSDT  Close Short   2063315.0  199772.1265\n",
       "6  DOGEUSDT    Open Long    186685.0   17380.3735\n",
       "7  DOGEUSDT   Open Short   3675000.0  373955.0000"
      ]
     },
     "execution_count": 46,
     "metadata": {},
     "output_type": "execute_result"
    }
   ],
   "source": [
    "group_by_size[group_by_size['Contracts'] == 'DOGEUSDT']"
   ]
  },
  {
   "cell_type": "code",
   "execution_count": 17,
   "id": "fbbc4d02",
   "metadata": {},
   "outputs": [],
   "source": [
    "rest = []\n",
    "\n",
    "for market in group_by_size['Contracts'].unique():\n",
    "    close_short = (group_by_size['Contracts'] == market) & (group_by_size['Direction'] == 'Close Short')\n",
    "    open_short = (group_by_size['Contracts'] == market) & (group_by_size['Direction'] == 'Open Short')\n",
    "    close_long = (group_by_size['Contracts'] == market) & (group_by_size['Direction'] == 'Close Long')\n",
    "    open_long = (group_by_size['Contracts'] == market) & (group_by_size['Direction'] == 'Open Long')\n",
    "    \n",
    "    rest_long = group_by_size[close_long]['Filled Qty'].sum() - group_by_size[open_long]['Filled Qty'].sum()\n",
    "    rest_short = group_by_size[close_short]['Filled Qty'].sum() - group_by_size[open_short]['Filled Qty'].sum()\n",
    "    \n",
    "    rest += [{'Contracts': market, 'Rest Direction': 'Long', 'Size': rest_long}]\n",
    "    rest += [{'Contracts': market, 'Rest Direction': 'Short', 'Size': rest_short}]"
   ]
  },
  {
   "cell_type": "code",
   "execution_count": 19,
   "id": "c9a9f1c8",
   "metadata": {
    "scrolled": true
   },
   "outputs": [
    {
     "data": {
      "text/html": [
       "<div>\n",
       "<style scoped>\n",
       "    .dataframe tbody tr th:only-of-type {\n",
       "        vertical-align: middle;\n",
       "    }\n",
       "\n",
       "    .dataframe tbody tr th {\n",
       "        vertical-align: top;\n",
       "    }\n",
       "\n",
       "    .dataframe thead th {\n",
       "        text-align: right;\n",
       "    }\n",
       "</style>\n",
       "<table border=\"1\" class=\"dataframe\">\n",
       "  <thead>\n",
       "    <tr style=\"text-align: right;\">\n",
       "      <th></th>\n",
       "      <th>Contracts</th>\n",
       "      <th>Rest Direction</th>\n",
       "      <th>Size</th>\n",
       "    </tr>\n",
       "  </thead>\n",
       "  <tbody>\n",
       "    <tr>\n",
       "      <th>0</th>\n",
       "      <td>CHZUSDT</td>\n",
       "      <td>Long</td>\n",
       "      <td>0.0</td>\n",
       "    </tr>\n",
       "    <tr>\n",
       "      <th>1</th>\n",
       "      <td>CHZUSDT</td>\n",
       "      <td>Short</td>\n",
       "      <td>0.0</td>\n",
       "    </tr>\n",
       "    <tr>\n",
       "      <th>2</th>\n",
       "      <td>DOGEUSDT</td>\n",
       "      <td>Long</td>\n",
       "      <td>13315.0</td>\n",
       "    </tr>\n",
       "    <tr>\n",
       "      <th>3</th>\n",
       "      <td>DOGEUSDT</td>\n",
       "      <td>Short</td>\n",
       "      <td>-1611685.0</td>\n",
       "    </tr>\n",
       "    <tr>\n",
       "      <th>4</th>\n",
       "      <td>LTCUSDT</td>\n",
       "      <td>Long</td>\n",
       "      <td>0.0</td>\n",
       "    </tr>\n",
       "    <tr>\n",
       "      <th>5</th>\n",
       "      <td>LTCUSDT</td>\n",
       "      <td>Short</td>\n",
       "      <td>0.0</td>\n",
       "    </tr>\n",
       "  </tbody>\n",
       "</table>\n",
       "</div>"
      ],
      "text/plain": [
       "  Contracts Rest Direction       Size\n",
       "0   CHZUSDT           Long        0.0\n",
       "1   CHZUSDT          Short        0.0\n",
       "2  DOGEUSDT           Long    13315.0\n",
       "3  DOGEUSDT          Short -1611685.0\n",
       "4   LTCUSDT           Long        0.0\n",
       "5   LTCUSDT          Short        0.0"
      ]
     },
     "execution_count": 19,
     "metadata": {},
     "output_type": "execute_result"
    }
   ],
   "source": [
    "rest_pd = pd.DataFrame(rest)\n",
    "rest_pd"
   ]
  },
  {
   "cell_type": "code",
   "execution_count": 28,
   "id": "1ace3206",
   "metadata": {
    "scrolled": true
   },
   "outputs": [],
   "source": [
    "rest_pd['Price'] = rest_pd.apply(lambda r: set_price(r['Contracts']) if r['Size'] !=0 else 0.0, axis=1)\n",
    "rest_pd['Usd_value'] = rest_pd['Price'] * rest_pd['Size']"
   ]
  },
  {
   "cell_type": "code",
   "execution_count": 34,
   "id": "dd388a73",
   "metadata": {},
   "outputs": [
    {
     "data": {
      "text/html": [
       "<div>\n",
       "<style scoped>\n",
       "    .dataframe tbody tr th:only-of-type {\n",
       "        vertical-align: middle;\n",
       "    }\n",
       "\n",
       "    .dataframe tbody tr th {\n",
       "        vertical-align: top;\n",
       "    }\n",
       "\n",
       "    .dataframe thead th {\n",
       "        text-align: right;\n",
       "    }\n",
       "</style>\n",
       "<table border=\"1\" class=\"dataframe\">\n",
       "  <thead>\n",
       "    <tr style=\"text-align: right;\">\n",
       "      <th></th>\n",
       "      <th>Usd_value</th>\n",
       "    </tr>\n",
       "    <tr>\n",
       "      <th>Contracts</th>\n",
       "      <th></th>\n",
       "    </tr>\n",
       "  </thead>\n",
       "  <tbody>\n",
       "    <tr>\n",
       "      <th>CHZUSDT</th>\n",
       "      <td>0.0</td>\n",
       "    </tr>\n",
       "    <tr>\n",
       "      <th>DOGEUSDT</th>\n",
       "      <td>-511478.4</td>\n",
       "    </tr>\n",
       "    <tr>\n",
       "      <th>LTCUSDT</th>\n",
       "      <td>0.0</td>\n",
       "    </tr>\n",
       "  </tbody>\n",
       "</table>\n",
       "</div>"
      ],
      "text/plain": [
       "           Usd_value\n",
       "Contracts           \n",
       "CHZUSDT          0.0\n",
       "DOGEUSDT   -511478.4\n",
       "LTCUSDT          0.0"
      ]
     },
     "execution_count": 34,
     "metadata": {},
     "output_type": "execute_result"
    }
   ],
   "source": [
    "rest_pd = rest_pd.groupby('Contracts').agg({'Usd_value':'sum'})\n",
    "rest_pd"
   ]
  },
  {
   "cell_type": "code",
   "execution_count": 39,
   "id": "ff6e7860",
   "metadata": {},
   "outputs": [
    {
     "data": {
      "text/plain": [
       "269.01608058"
      ]
     },
     "execution_count": 39,
     "metadata": {},
     "output_type": "execute_result"
    }
   ],
   "source": [
    "fees = df_trade['Fees Paid'].sum()\n",
    "fees"
   ]
  },
  {
   "cell_type": "code",
   "execution_count": 40,
   "id": "38209455",
   "metadata": {},
   "outputs": [
    {
     "data": {
      "text/plain": [
       "-479.75277053"
      ]
     },
     "execution_count": 40,
     "metadata": {},
     "output_type": "execute_result"
    }
   ],
   "source": [
    "funding_payment = - df_fund['Fees Paid'].sum()\n",
    "funding_payment"
   ]
  },
  {
   "cell_type": "code",
   "execution_count": null,
   "id": "aee1071d",
   "metadata": {},
   "outputs": [],
   "source": []
  }
 ],
 "metadata": {
  "kernelspec": {
   "display_name": "Python 3 (ipykernel)",
   "language": "python",
   "name": "python3"
  },
  "language_info": {
   "codemirror_mode": {
    "name": "ipython",
    "version": 3
   },
   "file_extension": ".py",
   "mimetype": "text/x-python",
   "name": "python",
   "nbconvert_exporter": "python",
   "pygments_lexer": "ipython3",
   "version": "3.9.12"
  }
 },
 "nbformat": 4,
 "nbformat_minor": 5
}
