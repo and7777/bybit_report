{
 "cells": [
  {
   "cell_type": "code",
   "execution_count": 1,
   "id": "a354da66",
   "metadata": {},
   "outputs": [],
   "source": [
    "import sys\n",
    "import numpy as np\n",
    "import pandas as pd\n",
    "sys.path.insert(0, 'E:/Oleg_jobbet/FTXdeklaration/ftx-declaring-tool')\n",
    "from util.date_helper import DateHelper as dh"
   ]
  },
  {
   "cell_type": "code",
   "execution_count": 2,
   "id": "3dd5b7d8",
   "metadata": {
    "scrolled": true
   },
   "outputs": [],
   "source": [
    "date = '2022-11'\n",
    "\n",
    "stamps = dh.get_month_range_date(date)\n",
    "\n",
    "start_time = stamps['start_time_string']\n",
    "end_time = stamps['end_time_string']"
   ]
  },
  {
   "cell_type": "code",
   "execution_count": 3,
   "id": "a70cb242",
   "metadata": {},
   "outputs": [
    {
     "data": {
      "text/plain": [
       "'2022-11-30T23:59:59+00:00'"
      ]
     },
     "execution_count": 3,
     "metadata": {},
     "output_type": "execute_result"
    }
   ],
   "source": [
    "end_time"
   ]
  },
  {
   "cell_type": "code",
   "execution_count": 20,
   "id": "91cfacf2",
   "metadata": {
    "scrolled": true
   },
   "outputs": [
    {
     "name": "stdout",
     "output_type": "stream",
     "text": [
      "Start date 2022-11-19 14:46:58\n"
     ]
    }
   ],
   "source": [
    "#Bybit-Derivatives-TradeHistory-20221101-20221202\n",
    "df = pd.read_csv('Bybit-Derivatives-TradeHistory-20221101-20221202.csv')\n",
    "print('Start date', df['Transaction Time(UTC+0)'].min())\n",
    "df = df.loc[(df['Transaction Time(UTC+0)'] >= start_time) & \\\n",
    "            (df['Transaction Time(UTC+0)'] <= end_time)].copy()"
   ]
  },
  {
   "cell_type": "code",
   "execution_count": 5,
   "id": "81a29e81",
   "metadata": {
    "scrolled": false
   },
   "outputs": [
    {
     "data": {
      "text/html": [
       "<div>\n",
       "<style scoped>\n",
       "    .dataframe tbody tr th:only-of-type {\n",
       "        vertical-align: middle;\n",
       "    }\n",
       "\n",
       "    .dataframe tbody tr th {\n",
       "        vertical-align: top;\n",
       "    }\n",
       "\n",
       "    .dataframe thead th {\n",
       "        text-align: right;\n",
       "    }\n",
       "</style>\n",
       "<table border=\"1\" class=\"dataframe\">\n",
       "  <thead>\n",
       "    <tr style=\"text-align: right;\">\n",
       "      <th></th>\n",
       "      <th>Contracts</th>\n",
       "      <th>Order No.</th>\n",
       "      <th>Transaction Time(UTC+0)</th>\n",
       "      <th>Leverage</th>\n",
       "      <th>Direction</th>\n",
       "      <th>Order Type</th>\n",
       "      <th>Filled Type</th>\n",
       "      <th>Filled Qty</th>\n",
       "      <th>Filled Price</th>\n",
       "      <th>Order Price</th>\n",
       "      <th>Trading Fee Rate</th>\n",
       "      <th>Fees Paid</th>\n",
       "      <th>Transaction ID</th>\n",
       "    </tr>\n",
       "  </thead>\n",
       "  <tbody>\n",
       "    <tr>\n",
       "      <th>12</th>\n",
       "      <td>DOGEUSDT</td>\n",
       "      <td>29c9e7bc</td>\n",
       "      <td>2022-11-30 22:56:24</td>\n",
       "      <td>10</td>\n",
       "      <td>Open Short</td>\n",
       "      <td>Limit</td>\n",
       "      <td>Trade</td>\n",
       "      <td>125000.0</td>\n",
       "      <td>0.10768</td>\n",
       "      <td>0.10768</td>\n",
       "      <td>0.00006</td>\n",
       "      <td>0.807600</td>\n",
       "      <td>eee06177</td>\n",
       "    </tr>\n",
       "    <tr>\n",
       "      <th>13</th>\n",
       "      <td>DOGEUSDT</td>\n",
       "      <td>af6de876</td>\n",
       "      <td>2022-11-30 18:04:58</td>\n",
       "      <td>10</td>\n",
       "      <td>Close Short</td>\n",
       "      <td>Limit</td>\n",
       "      <td>Trade</td>\n",
       "      <td>35042.0</td>\n",
       "      <td>0.10033</td>\n",
       "      <td>0.10033</td>\n",
       "      <td>0.00006</td>\n",
       "      <td>0.210946</td>\n",
       "      <td>68d0082b</td>\n",
       "    </tr>\n",
       "    <tr>\n",
       "      <th>14</th>\n",
       "      <td>DOGEUSDT</td>\n",
       "      <td>af6de876</td>\n",
       "      <td>2022-11-30 18:04:58</td>\n",
       "      <td>10</td>\n",
       "      <td>Close Short</td>\n",
       "      <td>Limit</td>\n",
       "      <td>Trade</td>\n",
       "      <td>1946.0</td>\n",
       "      <td>0.10033</td>\n",
       "      <td>0.10033</td>\n",
       "      <td>0.00006</td>\n",
       "      <td>0.011715</td>\n",
       "      <td>d59e1ee6</td>\n",
       "    </tr>\n",
       "    <tr>\n",
       "      <th>15</th>\n",
       "      <td>DOGEUSDT</td>\n",
       "      <td>af6de876</td>\n",
       "      <td>2022-11-30 18:04:58</td>\n",
       "      <td>10</td>\n",
       "      <td>Close Short</td>\n",
       "      <td>Limit</td>\n",
       "      <td>Trade</td>\n",
       "      <td>18851.0</td>\n",
       "      <td>0.10033</td>\n",
       "      <td>0.10033</td>\n",
       "      <td>0.00006</td>\n",
       "      <td>0.113479</td>\n",
       "      <td>a9ad58cd</td>\n",
       "    </tr>\n",
       "    <tr>\n",
       "      <th>16</th>\n",
       "      <td>DOGEUSDT</td>\n",
       "      <td>af6de876</td>\n",
       "      <td>2022-11-30 18:04:58</td>\n",
       "      <td>10</td>\n",
       "      <td>Close Short</td>\n",
       "      <td>Limit</td>\n",
       "      <td>Trade</td>\n",
       "      <td>22514.0</td>\n",
       "      <td>0.10033</td>\n",
       "      <td>0.10033</td>\n",
       "      <td>0.00006</td>\n",
       "      <td>0.135530</td>\n",
       "      <td>a107bc0b</td>\n",
       "    </tr>\n",
       "  </tbody>\n",
       "</table>\n",
       "</div>"
      ],
      "text/plain": [
       "   Contracts Order No. Transaction Time(UTC+0)  Leverage    Direction  \\\n",
       "12  DOGEUSDT  29c9e7bc     2022-11-30 22:56:24        10   Open Short   \n",
       "13  DOGEUSDT  af6de876     2022-11-30 18:04:58        10  Close Short   \n",
       "14  DOGEUSDT  af6de876     2022-11-30 18:04:58        10  Close Short   \n",
       "15  DOGEUSDT  af6de876     2022-11-30 18:04:58        10  Close Short   \n",
       "16  DOGEUSDT  af6de876     2022-11-30 18:04:58        10  Close Short   \n",
       "\n",
       "   Order Type Filled Type  Filled Qty  Filled Price Order Price  \\\n",
       "12      Limit       Trade    125000.0       0.10768     0.10768   \n",
       "13      Limit       Trade     35042.0       0.10033     0.10033   \n",
       "14      Limit       Trade      1946.0       0.10033     0.10033   \n",
       "15      Limit       Trade     18851.0       0.10033     0.10033   \n",
       "16      Limit       Trade     22514.0       0.10033     0.10033   \n",
       "\n",
       "    Trading Fee Rate  Fees Paid Transaction ID  \n",
       "12           0.00006   0.807600       eee06177  \n",
       "13           0.00006   0.210946       68d0082b  \n",
       "14           0.00006   0.011715       d59e1ee6  \n",
       "15           0.00006   0.113479       a9ad58cd  \n",
       "16           0.00006   0.135530       a107bc0b  "
      ]
     },
     "execution_count": 5,
     "metadata": {},
     "output_type": "execute_result"
    }
   ],
   "source": [
    "df.head()"
   ]
  },
  {
   "cell_type": "code",
   "execution_count": 6,
   "id": "801f323e",
   "metadata": {},
   "outputs": [],
   "source": [
    "df['usd_value'] = df['Filled Qty'] * df['Filled Price']"
   ]
  },
  {
   "cell_type": "code",
   "execution_count": 17,
   "id": "aaa765de",
   "metadata": {
    "scrolled": true
   },
   "outputs": [
    {
     "data": {
      "text/html": [
       "<div>\n",
       "<style scoped>\n",
       "    .dataframe tbody tr th:only-of-type {\n",
       "        vertical-align: middle;\n",
       "    }\n",
       "\n",
       "    .dataframe tbody tr th {\n",
       "        vertical-align: top;\n",
       "    }\n",
       "\n",
       "    .dataframe thead th {\n",
       "        text-align: right;\n",
       "    }\n",
       "</style>\n",
       "<table border=\"1\" class=\"dataframe\">\n",
       "  <thead>\n",
       "    <tr style=\"text-align: right;\">\n",
       "      <th></th>\n",
       "      <th>Contracts</th>\n",
       "      <th>Order No.</th>\n",
       "      <th>Transaction Time(UTC+0)</th>\n",
       "      <th>Leverage</th>\n",
       "      <th>Direction</th>\n",
       "      <th>Order Type</th>\n",
       "      <th>Filled Type</th>\n",
       "      <th>Filled Qty</th>\n",
       "      <th>Filled Price</th>\n",
       "      <th>Order Price</th>\n",
       "      <th>Trading Fee Rate</th>\n",
       "      <th>Fees Paid</th>\n",
       "      <th>Transaction ID</th>\n",
       "      <th>usd_value</th>\n",
       "    </tr>\n",
       "  </thead>\n",
       "  <tbody>\n",
       "    <tr>\n",
       "      <th>23</th>\n",
       "      <td>DOGEUSDT</td>\n",
       "      <td>851-Sell</td>\n",
       "      <td>2022-11-30 16:00:00</td>\n",
       "      <td>10</td>\n",
       "      <td>Open Short</td>\n",
       "      <td>--</td>\n",
       "      <td>Funding</td>\n",
       "      <td>1875000.0</td>\n",
       "      <td>0.10417</td>\n",
       "      <td>0.00000</td>\n",
       "      <td>-0.000100</td>\n",
       "      <td>-19.531875</td>\n",
       "      <td>73d3f9dc</td>\n",
       "      <td>195318.75</td>\n",
       "    </tr>\n",
       "    <tr>\n",
       "      <th>29</th>\n",
       "      <td>DOGEUSDT</td>\n",
       "      <td>851-Sell</td>\n",
       "      <td>2022-11-30 08:00:00</td>\n",
       "      <td>10</td>\n",
       "      <td>Open Short</td>\n",
       "      <td>--</td>\n",
       "      <td>Funding</td>\n",
       "      <td>2000000.0</td>\n",
       "      <td>0.10617</td>\n",
       "      <td>0.00000</td>\n",
       "      <td>-0.000093</td>\n",
       "      <td>-19.654190</td>\n",
       "      <td>402b0549</td>\n",
       "      <td>212340.00</td>\n",
       "    </tr>\n",
       "    <tr>\n",
       "      <th>30</th>\n",
       "      <td>DOGEUSDT</td>\n",
       "      <td>851-Sell</td>\n",
       "      <td>2022-11-30 00:00:00</td>\n",
       "      <td>10</td>\n",
       "      <td>Open Short</td>\n",
       "      <td>--</td>\n",
       "      <td>Funding</td>\n",
       "      <td>2000000.0</td>\n",
       "      <td>0.10138</td>\n",
       "      <td>0.00000</td>\n",
       "      <td>0.000105</td>\n",
       "      <td>21.381042</td>\n",
       "      <td>07c67cb1</td>\n",
       "      <td>202760.00</td>\n",
       "    </tr>\n",
       "    <tr>\n",
       "      <th>31</th>\n",
       "      <td>DOGEUSDT</td>\n",
       "      <td>851-Sell</td>\n",
       "      <td>2022-11-29 16:00:00</td>\n",
       "      <td>10</td>\n",
       "      <td>Open Short</td>\n",
       "      <td>--</td>\n",
       "      <td>Funding</td>\n",
       "      <td>2000000.0</td>\n",
       "      <td>0.10153</td>\n",
       "      <td>0.00000</td>\n",
       "      <td>-0.000100</td>\n",
       "      <td>-20.306000</td>\n",
       "      <td>fe515489</td>\n",
       "      <td>203060.00</td>\n",
       "    </tr>\n",
       "    <tr>\n",
       "      <th>32</th>\n",
       "      <td>DOGEUSDT</td>\n",
       "      <td>851-Sell</td>\n",
       "      <td>2022-11-29 08:00:00</td>\n",
       "      <td>10</td>\n",
       "      <td>Open Short</td>\n",
       "      <td>--</td>\n",
       "      <td>Funding</td>\n",
       "      <td>2000000.0</td>\n",
       "      <td>0.10240</td>\n",
       "      <td>0.00000</td>\n",
       "      <td>0.003059</td>\n",
       "      <td>626.511872</td>\n",
       "      <td>31f94274</td>\n",
       "      <td>204800.00</td>\n",
       "    </tr>\n",
       "  </tbody>\n",
       "</table>\n",
       "</div>"
      ],
      "text/plain": [
       "   Contracts Order No. Transaction Time(UTC+0)  Leverage   Direction  \\\n",
       "23  DOGEUSDT  851-Sell     2022-11-30 16:00:00        10  Open Short   \n",
       "29  DOGEUSDT  851-Sell     2022-11-30 08:00:00        10  Open Short   \n",
       "30  DOGEUSDT  851-Sell     2022-11-30 00:00:00        10  Open Short   \n",
       "31  DOGEUSDT  851-Sell     2022-11-29 16:00:00        10  Open Short   \n",
       "32  DOGEUSDT  851-Sell     2022-11-29 08:00:00        10  Open Short   \n",
       "\n",
       "   Order Type Filled Type  Filled Qty  Filled Price Order Price  \\\n",
       "23         --     Funding   1875000.0       0.10417     0.00000   \n",
       "29         --     Funding   2000000.0       0.10617     0.00000   \n",
       "30         --     Funding   2000000.0       0.10138     0.00000   \n",
       "31         --     Funding   2000000.0       0.10153     0.00000   \n",
       "32         --     Funding   2000000.0       0.10240     0.00000   \n",
       "\n",
       "    Trading Fee Rate   Fees Paid Transaction ID  usd_value  \n",
       "23         -0.000100  -19.531875       73d3f9dc  195318.75  \n",
       "29         -0.000093  -19.654190       402b0549  212340.00  \n",
       "30          0.000105   21.381042       07c67cb1  202760.00  \n",
       "31         -0.000100  -20.306000       fe515489  203060.00  \n",
       "32          0.003059  626.511872       31f94274  204800.00  "
      ]
     },
     "execution_count": 17,
     "metadata": {},
     "output_type": "execute_result"
    }
   ],
   "source": [
    "df_fund = df.loc[df['Filled Type'].isin(['Funding'])]\n",
    "df_fund.head()"
   ]
  },
  {
   "cell_type": "code",
   "execution_count": 10,
   "id": "2da6efe9",
   "metadata": {},
   "outputs": [],
   "source": [
    "df_trade = df.loc[df['Filled Type'].isin(['Trade'])]\n",
    "buy_sell_df = df_trade.groupby('Direction')['usd_value'].sum()"
   ]
  },
  {
   "cell_type": "code",
   "execution_count": 11,
   "id": "c47a7c91",
   "metadata": {},
   "outputs": [
    {
     "data": {
      "text/plain": [
       "Direction\n",
       "Close Long      48352.57135\n",
       "Close Short    642710.46020\n",
       "Open Long       46361.62350\n",
       "Open Short     846270.01455\n",
       "Name: usd_value, dtype: float64"
      ]
     },
     "execution_count": 11,
     "metadata": {},
     "output_type": "execute_result"
    }
   ],
   "source": [
    "buy_sell_df"
   ]
  },
  {
   "cell_type": "code",
   "execution_count": 14,
   "id": "81830fe3",
   "metadata": {},
   "outputs": [
    {
     "data": {
      "text/plain": [
       "894622.5859"
      ]
     },
     "execution_count": 14,
     "metadata": {},
     "output_type": "execute_result"
    }
   ],
   "source": [
    "sell = buy_sell_df['Close Long'] +  buy_sell_df['Open Short']\n",
    "sell"
   ]
  },
  {
   "cell_type": "code",
   "execution_count": 15,
   "id": "9a04fe9e",
   "metadata": {},
   "outputs": [
    {
     "data": {
      "text/plain": [
       "689072.0837"
      ]
     },
     "execution_count": 15,
     "metadata": {},
     "output_type": "execute_result"
    }
   ],
   "source": [
    "buy = buy_sell_df['Open Long'] +  buy_sell_df['Close Short']\n",
    "buy"
   ]
  },
  {
   "cell_type": "code",
   "execution_count": 16,
   "id": "ff6e7860",
   "metadata": {},
   "outputs": [
    {
     "data": {
      "text/plain": [
       "269.01608058"
      ]
     },
     "execution_count": 16,
     "metadata": {},
     "output_type": "execute_result"
    }
   ],
   "source": [
    "fees = df_trade['Fees Paid'].sum()\n",
    "fees"
   ]
  },
  {
   "cell_type": "code",
   "execution_count": 19,
   "id": "38209455",
   "metadata": {},
   "outputs": [
    {
     "data": {
      "text/plain": [
       "-479.75277053"
      ]
     },
     "execution_count": 19,
     "metadata": {},
     "output_type": "execute_result"
    }
   ],
   "source": [
    "funding_payment = - df_fund['Fees Paid'].sum()\n",
    "funding_payment"
   ]
  },
  {
   "cell_type": "code",
   "execution_count": null,
   "id": "aee1071d",
   "metadata": {},
   "outputs": [],
   "source": []
  }
 ],
 "metadata": {
  "kernelspec": {
   "display_name": "Python 3 (ipykernel)",
   "language": "python",
   "name": "python3"
  },
  "language_info": {
   "codemirror_mode": {
    "name": "ipython",
    "version": 3
   },
   "file_extension": ".py",
   "mimetype": "text/x-python",
   "name": "python",
   "nbconvert_exporter": "python",
   "pygments_lexer": "ipython3",
   "version": "3.9.12"
  }
 },
 "nbformat": 4,
 "nbformat_minor": 5
}
